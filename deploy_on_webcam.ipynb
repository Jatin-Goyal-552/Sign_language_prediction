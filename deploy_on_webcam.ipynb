{
 "cells": [
  {
   "cell_type": "code",
   "execution_count": 1,
   "metadata": {},
   "outputs": [],
   "source": [
    "import cv2\n",
    "import tensorflow as tf\n",
    "from keras.models import load_model\n",
    "import pickle\n",
    "from keras.preprocessing.image import load_img\n",
    "from keras.preprocessing.image import img_to_array\n",
    "from keras.preprocessing import image\n",
    "import numpy as np\n",
    "import random\n",
    "import keyboard\n",
    "from time import sleep\n",
    "from textblob import TextBlob\n",
    "from spellchecker import SpellChecker\n"
   ]
  },
  {
   "cell_type": "code",
   "execution_count": 2,
   "metadata": {},
   "outputs": [],
   "source": [
    "dic1={0:\"A\",1:\"B\",2:\"C\",3:\"D\",4:\"E\",5:\"F\",6:\"G\",7:\"H\",8:\"I\",10:\"K\",11:\"L\",12:\"M\",13:\"N\",14:\"O\",15:\"P\",16:\"Q\",17:\"R\",18:\"S\",19:\"T\",20:\"U\",21:\"V\",22:\"W\",23:\"X\",24:\"Y\"}\n",
    "dic2={0:\"A\",1:\"E\",2:\"M\",3:\"S\"}"
   ]
  },
  {
   "cell_type": "code",
   "execution_count": 3,
   "metadata": {},
   "outputs": [],
   "source": [
    "model1 = load_model('sign_language_prediction_model.h5')\n",
    "model2=load_model('second_model.h5')\n",
    "def load_image1(filename,new_model1):\n",
    "    img = image.load_img(filename,target_size = (28,28),color_mode = \"grayscale\")\n",
    "    img = np.array(img)/255\n",
    "    img = np.expand_dims(img,axis = 0) \n",
    "    img = img.reshape(1,28,28,1)\n",
    "    result = new_model1.predict(img)\n",
    "#     print(\"len\",len(result[0]))\n",
    "    result=np.argmax(result)\n",
    "#     img_index = result.index(max(result))\n",
    "#     print(result)\n",
    "    if result>=9:\n",
    "        result=result+1\n",
    "    return dic1[result],result\n",
    "\n",
    "def load_image2(filename,new_model2):\n",
    "    img = image.load_img(filename,target_size = (28,28),color_mode = \"grayscale\")\n",
    "    img = np.array(img)/255\n",
    "    img = np.expand_dims(img,axis = 0) \n",
    "    img = img.reshape(1,28,28,1)\n",
    "    result = new_model2.predict(img)\n",
    "#     print(\"len\",len(result[0]))\n",
    "    result=np.argmax(result)\n",
    "#     img_index = result.index(max(result))\n",
    "#     print(result)\n",
    "#     if result>=9:\n",
    "#         result=result+1\n",
    "    return dic2[result],result"
   ]
  },
  {
   "cell_type": "code",
   "execution_count": null,
   "metadata": {},
   "outputs": [],
   "source": [
    "vid = cv2.VideoCapture(0)\n",
    "spell = SpellChecker()\n",
    "font = cv2.FONT_HERSHEY_SIMPLEX \n",
    "org = (70, 40) \n",
    "fontScale = 1.0\n",
    "color = (255, 255, 0) \n",
    "thickness = 3\n",
    "word=\"\"\n",
    "# pred1=\" \"\n",
    "while True:\n",
    "    ret,frame=vid.read()\n",
    "    cv2.rectangle(frame, (20,80), (190,250), (0,0,255),2)\n",
    "    \n",
    "    img1=frame[80:250,20:190]\n",
    "    cv2.imwrite(\"a.jpg\", img1)\n",
    "    pred1,prediction=load_image1('a.jpg',model1)\n",
    "    if prediction ==0 or prediction==4 or prediction ==12 or prediction ==18 :\n",
    "        pred1,prediction=load_image2('a.jpg',model2)\n",
    "    if keyboard.is_pressed('f'):\n",
    "        word=word+pred1\n",
    "        sleep(0.1)\n",
    "    if keyboard.is_pressed(\"s\"):\n",
    "        lst=word.split(' ')\n",
    "        correct = spell.correction(lst.pop())\n",
    "        lst.append(correct)\n",
    "        word=\" \".join(lst)\n",
    "#         word=TextBlob(word)\n",
    "#         word=word.correct()\n",
    "#         print(word)\n",
    "        word=word+\" \"\n",
    "        sleep(0.1)\n",
    "#         pred1=\" \"\n",
    "    try:\n",
    "        cv2.putText(frame, \"Press F to add character to word and S to insert space between words\", (50,30), font,  \n",
    "                           0.5, (255,0,0), 1, cv2.LINE_AA)\n",
    "        cv2.putText(frame, pred1, (85,60), font,  \n",
    "                               fontScale, (0,0,255), thickness, cv2.LINE_AA)\n",
    "        cv2.putText(frame,\"App prediction is :-\",(50,350),font,1,(0,255,0),3,cv2.LINE_AA)\n",
    "        cv2.putText(frame, word, (50,400), font,  \n",
    "                           1, (255,0,0), 3, cv2.LINE_AA) \n",
    "        cv2.imshow(\"frame\",frame)\n",
    "    except Exception as e:\n",
    "#         print(e)\n",
    "        cv2.imshow(\"frame\",frame)\n",
    "    if cv2.waitKey(1) & 0xFF == ord('q'): \n",
    "        break\n",
    "  \n",
    "vid.release() \n",
    "cv2.destroyAllWindows()"
   ]
  },
  {
   "cell_type": "code",
   "execution_count": null,
   "metadata": {},
   "outputs": [],
   "source": []
  }
 ],
 "metadata": {
  "kernelspec": {
   "display_name": "Python 3",
   "language": "python",
   "name": "python3"
  },
  "language_info": {
   "codemirror_mode": {
    "name": "ipython",
    "version": 3
   },
   "file_extension": ".py",
   "mimetype": "text/x-python",
   "name": "python",
   "nbconvert_exporter": "python",
   "pygments_lexer": "ipython3",
   "version": "3.7.4"
  }
 },
 "nbformat": 4,
 "nbformat_minor": 2
}
